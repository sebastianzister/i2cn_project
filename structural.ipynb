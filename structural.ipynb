{
 "cells": [
  {
   "cell_type": "code",
   "execution_count": 1,
   "metadata": {},
   "outputs": [],
   "source": [
    "from brian2 import *\n",
    "import matplotlib.pyplot as plt"
   ]
  },
  {
   "cell_type": "code",
   "execution_count": 5,
   "metadata": {},
   "outputs": [
    {
     "name": "stderr",
     "output_type": "stream",
     "text": [
      "INFO       No numerical integration method specified for group 'neurongroup_3', using method 'exact' (took 0.00s). [brian2.stateupdaters.base.method_choice]\n",
      "INFO       No numerical integration method specified for group 'neurongroup', using method 'exact' (took 0.00s). [brian2.stateupdaters.base.method_choice]\n"
     ]
    }
   ],
   "source": [
    "start_scope()\n",
    "# Neurons\n",
    "N_E = 1000\n",
    "N_I = 250\n",
    "V_th = 20*mV\n",
    "V_res = 10*mV\n",
    "t_ref = 2*ms\n",
    "tau_m = 10*ms\n",
    "neuron_eqs = '''\n",
    "dV/dt = - V / tau_m : volt\n",
    "'''\n",
    "#a_plus = 0 : 1\n",
    "#d_plus = 0 : 1\n",
    "#dphi/dt = - phi / tau_ca : 1\n",
    "nu_ext = 15*kHz\n",
    "# Synapses\n",
    "J = 0.1*mV\n",
    "g = 8\n",
    "J_I = - J * g\n",
    "\n",
    "# Plasticity\n",
    "tau_ca = 10*second\n",
    "delta_T_s = 100\n",
    "\n",
    "# Create Neurons\n",
    "E = NeuronGroup(N_E, neuron_eqs, threshold='V>V_th', reset='V=V_res', refractory=t_ref)\n",
    "#\\nphi+=1/tau_ca\n",
    "I = NeuronGroup(N_I, neuron_eqs, threshold='V>V_th', reset='V=V_res', refractory=t_ref)\n",
    "\n",
    "# Background Input\n",
    "P_E = PoissonInput(E, 'V', 1, 15*kHz, (tau_m/ms)*J)\n",
    "P_I = PoissonInput(I, 'V', 1, 15*kHz, (tau_m/ms)*J)\n",
    "\n",
    "# Static Synapses\n",
    "S_I_I = Synapses(I, I, on_pre='V_post += (tau_m/ms)*J_I')\n",
    "S_I_I.connect(p=0.1/N_I)\n",
    "\n",
    "S_I_E = Synapses(I, E, on_pre='V_post += (tau_m/ms)*J_I')\n",
    "S_I_E.connect(p=0.1/N_E)\n",
    "\n",
    "S_E_I = Synapses(E, I, on_pre='V_post += (tau_m/ms)*J')\n",
    "S_E_I.connect(p=0.1/N_I)\n",
    "\n",
    "# Dynamic synapses\n",
    "S_E_E = Synapses(E, E, model='''\n",
    "c = 0 : 1\n",
    "'''\n",
    "#a_plus_pre = c : 1 (summed)\n",
    "#d_plus_post = c : 1 (summed)\n",
    ",on_pre='V_post += c*(tau_m/ms)*J')\n",
    "S_E_E.connect()\n",
    "\n",
    "M = SpikeMonitor(E)\n",
    "run(0.01*second)"
   ]
  },
  {
   "cell_type": "code",
   "execution_count": 55,
   "metadata": {},
   "outputs": [
    {
     "name": "stdout",
     "output_type": "stream",
     "text": [
      "<synapses_8.N: 251>\n",
      "<synapses_5.N: 228>\n",
      "<synapses_7.N: 1055>\n"
     ]
    },
    {
     "data": {
      "image/png": "[encoded data removed]",
      "text/plain": [
       "<Figure size 640x480 with 1 Axes>"
      ]
     },
     "metadata": {},
     "output_type": "display_data"
    }
   ],
   "source": [
    "plot(M.t/ms, M.i, '.')\n",
    "print(S_I_I.N)\n",
    "print(S_I_E.N)\n",
    "print(S_E_I.N)"
   ]
  }
 ],
 "metadata": {
  "kernelspec": {
   "display_name": "i2cn",
   "language": "python",
   "name": "python3"
  },
  "language_info": {
   "codemirror_mode": {
    "name": "ipython",
    "version": 3
   },
   "file_extension": ".py",
   "mimetype": "text/x-python",
   "name": "python",
   "nbconvert_exporter": "python",
   "pygments_lexer": "ipython3",
   "version": "3.10.13"
  },
  "orig_nbformat": 4
 },
 "nbformat": 4,
 "nbformat_minor": 2
}
