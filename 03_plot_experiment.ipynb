{
 "cells": [
  {
   "cell_type": "code",
   "execution_count": 2,
   "metadata": {},
   "outputs": [],
   "source": [
    "import matplotlib.pyplot as plt\n",
    "import numpy as np"
   ]
  },
  {
   "cell_type": "code",
   "execution_count": 8,
   "metadata": {},
   "outputs": [],
   "source": [
    "def plot_experiment(experiment_folder, experiment_name):\n",
    "    con = np.load(experiment_folder + 'con' + experiment_name + '.npz')\n",
    "    state = np.load(experiment_folder + 'state' + experiment_name + '.npz')\n",
    "    spikes = np.load(experiment_folder + 'spikes' + experiment_name + '.npz')\n",
    "    #list_tate['d_E2'], axis=0), label='elems_E2', color='blue')\n",
    "    \n",
    "    fig, axs = plt.subplots(4, 1, figsize=(9, 16))\n",
    "    \n",
    "    ms = 0.1\n",
    "    subspikes = 30\n",
    "\n",
    "    e_1_i_100 = spikes['i'][spikes['i'] < subspikes]\n",
    "    e_1_t_100 = spikes['t'][spikes['i'] < subspikes]\n",
    "    \n",
    "    e_2_i_100 = spikes['i2'][spikes['i2'] < subspikes]\n",
    "    e_2_t_100 = spikes['t2'][spikes['i2'] < subspikes]\n",
    "\n",
    "    i_i_100 = spikes['i3'][spikes['i3'] < subspikes]\n",
    "    i_t_100 = spikes['t3'][spikes['i3'] < subspikes]\n",
    "    \n",
    "    \n",
    "    axs[0].plot(e_1_t_100, e_1_i_100, 'o', label='E1', color='green', markersize=ms, markeredgewidth=0.0)\n",
    "    axs[0].plot(e_2_t_100, e_2_i_100 + subspikes, 'o', label='E2', color='blue', markersize=ms, markeredgewidth=0.0)\n",
    "    axs[0].plot(i_t_100, i_i_100 + 2*subspikes, 'o', label='I', color='red', markersize=ms, markeredgewidth=0.0)\n",
    "    #axs[0].plot(spikes['t'], spikes['i'], ',', label='E1', color='green')\n",
    "    #axs[0].plot(spikes['t2'], spikes['i2'] + 1000, ',', label='E2', color='blue')\n",
    "    #axs[0].plot(spikes['t3'], spikes['i3'] + 10000, ',', label='I', color='red')\n",
    "    \n",
    "    axs[1].plot(state['t']/1000, np.mean(state['phi_E1'], axis=0), '.', label='phi_E1', color='green')\n",
    "    axs[1].plot(state['t2']/1000, np.mean(state['phi_E2'], axis=0), '.', label='phi_E2', color='blue')\n",
    "    \n",
    "    axs[2].plot(state['t']/1000, np.mean(state['d_E1'], axis=0), '.', label='d_E1', color='green')\n",
    "    axs[2].plot(state['t2']/1000, np.mean(state['d_E2'], axis=0), '.', label='d_E2', color='blue')\n",
    "    \n",
    "    \n",
    "#    axs[1].plot(state['t'][::5]/1000, np.mean(state['phi_E1'][:,::5], axis=0), '.', label='phi_E1', color='green')\n",
    "#    axs[1].plot(state['t2'][::5]/1000, np.mean(state['phi_E2'][:,::5], axis=0), '.', label='phi_E2', color='blue')\n",
    "#    \n",
    "#    axs[2].plot(state['t'][::5]/1000, np.mean(state['d_E1'][:,::5], axis=0), '.', label='d_E1', color='green')\n",
    "#    axs[2].plot(state['t2'][::5]/1000, np.mean(state['d_E2'][:,::5], axis=0), '.', label='d_E2', color='blue')\n",
    "\n",
    "    axs[3].plot(np.array(con['C_E_1_2_t'])/1000, con['C_E_1_2'], '.', label='C_1_2', color='darkgrey')\n",
    "    axs[3].plot(np.array(con['C_E_2_1_t'])/1000, con['C_E_2_1'], '.', label= 'C_2_1', color='darkgrey')\n",
    "    axs[3].plot(np.array(con['C_E_1_1_t'])/1000, con['C_E_1_1'], '.', label='C_1_1', color = 'green')\n",
    "    axs[3].plot(np.array(con['C_E_2_2_t'])/1000, con['C_E_2_2'], '.', label= 'C_2_2', color= 'blue')\n",
    "    axs[1].set_xlim(0, 300)\n",
    "    axs[2].set_xlim(0, 300)\n",
    "    axs[3].set_xlim(0, 300)\n",
    "    \n",
    "    return fig, axs"
   ]
  },
  {
   "cell_type": "code",
   "execution_count": 4,
   "metadata": {},
   "outputs": [],
   "source": [
    "import h5py\n",
    "\n",
    "# load analytical data from original paper (created with mathematica) \n",
    "# and add to existing plot\n",
    "def plot_analysis(filename, fig, axs):\n",
    "    f = h5py.File(filename, 'r')\n",
    "    dset = f['Dataset1']\n",
    "\n",
    "    phi_E1 = dset[:11501, 2]\n",
    "    phi_E2 = dset[:11501, 3]\n",
    "    \n",
    "    C_E_1_1 = dset[:11501, 4]\n",
    "    C_E_1_2 = dset[:11501, 5]\n",
    "    C_E_2_1 = dset[:11501, 6]\n",
    "    C_E_2_2 = dset[:11501, 7]\n",
    "\n",
    "    axs[1].plot(np.arange(0, 11501)/10, phi_E1, label='phi_E1', color='green')\n",
    "    axs[1].plot(np.arange(0, 11501)/10, phi_E2, label='phi_E2', color='blue')\n",
    "\n",
    "    axs[3].plot(np.arange(0, 11501)/10, C_E_1_1, label='C_1_1', color='green')\n",
    "    axs[3].plot(np.arange(0, 11501)/10, C_E_2_2, label='C_2_2', color='blue')\n",
    "    axs[3].plot(np.arange(0, 11501)/10, C_E_1_2, label='C_1_2', color='darkgrey')\n",
    "    axs[3].plot(np.arange(0, 11501)/10, C_E_2_1, label='C_2_1', color='darkgrey')"
   ]
  },
  {
   "cell_type": "code",
   "execution_count": 10,
   "metadata": {},
   "outputs": [
    {
     "ename": "FileNotFoundError",
     "evalue": "[Errno 2] No such file or directory: 'Experiments/15_03_24_openmp_change_create/con_order_2500_enable_plasticity_True_tau_ca_2. s_nu_ext_mult_1.05_standalone_False.npz'",
     "output_type": "error",
     "traceback": [
      "\u001b[0;31m---------------------------------------------------------------------------\u001b[0m",
      "\u001b[0;31mFileNotFoundError\u001b[0m                         Traceback (most recent call last)",
      "Cell \u001b[0;32mIn[10], line 4\u001b[0m\n\u001b[1;32m      1\u001b[0m folder \u001b[38;5;241m=\u001b[39m \u001b[38;5;124m'\u001b[39m\u001b[38;5;124mExperiments/15_03_24_openmp_change_create/\u001b[39m\u001b[38;5;124m'\u001b[39m\n\u001b[1;32m      2\u001b[0m name \u001b[38;5;241m=\u001b[39m \u001b[38;5;124m'\u001b[39m\u001b[38;5;124m_order_2500_enable_plasticity_True_tau_ca_2. s_nu_ext_mult_1.05_standalone_False\u001b[39m\u001b[38;5;124m'\u001b[39m\n\u001b[0;32m----> 4\u001b[0m fig, axs \u001b[38;5;241m=\u001b[39m \u001b[43mplot_experiment\u001b[49m\u001b[43m(\u001b[49m\u001b[43mfolder\u001b[49m\u001b[43m,\u001b[49m\u001b[43m \u001b[49m\u001b[43mname\u001b[49m\u001b[43m)\u001b[49m\n\u001b[1;32m      5\u001b[0m plot_analysis(\u001b[38;5;124m'\u001b[39m\u001b[38;5;124mtracesnaive_tau_ca_2.h5\u001b[39m\u001b[38;5;124m'\u001b[39m, fig, axs)\n\u001b[1;32m      6\u001b[0m \u001b[38;5;66;03m#plot_analysis('tracesnaive.h5', fig, axs)\u001b[39;00m\n",
      "Cell \u001b[0;32mIn[8], line 2\u001b[0m, in \u001b[0;36mplot_experiment\u001b[0;34m(experiment_folder, experiment_name)\u001b[0m\n\u001b[1;32m      1\u001b[0m \u001b[38;5;28;01mdef\u001b[39;00m \u001b[38;5;21mplot_experiment\u001b[39m(experiment_folder, experiment_name):\n\u001b[0;32m----> 2\u001b[0m     con \u001b[38;5;241m=\u001b[39m \u001b[43mnp\u001b[49m\u001b[38;5;241;43m.\u001b[39;49m\u001b[43mload\u001b[49m\u001b[43m(\u001b[49m\u001b[43mexperiment_folder\u001b[49m\u001b[43m \u001b[49m\u001b[38;5;241;43m+\u001b[39;49m\u001b[43m \u001b[49m\u001b[38;5;124;43m'\u001b[39;49m\u001b[38;5;124;43mcon\u001b[39;49m\u001b[38;5;124;43m'\u001b[39;49m\u001b[43m \u001b[49m\u001b[38;5;241;43m+\u001b[39;49m\u001b[43m \u001b[49m\u001b[43mexperiment_name\u001b[49m\u001b[43m \u001b[49m\u001b[38;5;241;43m+\u001b[39;49m\u001b[43m \u001b[49m\u001b[38;5;124;43m'\u001b[39;49m\u001b[38;5;124;43m.npz\u001b[39;49m\u001b[38;5;124;43m'\u001b[39;49m\u001b[43m)\u001b[49m\n\u001b[1;32m      3\u001b[0m     state \u001b[38;5;241m=\u001b[39m np\u001b[38;5;241m.\u001b[39mload(experiment_folder \u001b[38;5;241m+\u001b[39m \u001b[38;5;124m'\u001b[39m\u001b[38;5;124mstate\u001b[39m\u001b[38;5;124m'\u001b[39m \u001b[38;5;241m+\u001b[39m experiment_name \u001b[38;5;241m+\u001b[39m \u001b[38;5;124m'\u001b[39m\u001b[38;5;124m.npz\u001b[39m\u001b[38;5;124m'\u001b[39m)\n\u001b[1;32m      4\u001b[0m     spikes \u001b[38;5;241m=\u001b[39m np\u001b[38;5;241m.\u001b[39mload(experiment_folder \u001b[38;5;241m+\u001b[39m \u001b[38;5;124m'\u001b[39m\u001b[38;5;124mspikes\u001b[39m\u001b[38;5;124m'\u001b[39m \u001b[38;5;241m+\u001b[39m experiment_name \u001b[38;5;241m+\u001b[39m \u001b[38;5;124m'\u001b[39m\u001b[38;5;124m.npz\u001b[39m\u001b[38;5;124m'\u001b[39m)\n",
      "File \u001b[0;32m~/miniconda3/envs/i2cn/lib/python3.11/site-packages/numpy/lib/npyio.py:427\u001b[0m, in \u001b[0;36mload\u001b[0;34m(file, mmap_mode, allow_pickle, fix_imports, encoding, max_header_size)\u001b[0m\n\u001b[1;32m    425\u001b[0m     own_fid \u001b[38;5;241m=\u001b[39m \u001b[38;5;28;01mFalse\u001b[39;00m\n\u001b[1;32m    426\u001b[0m \u001b[38;5;28;01melse\u001b[39;00m:\n\u001b[0;32m--> 427\u001b[0m     fid \u001b[38;5;241m=\u001b[39m stack\u001b[38;5;241m.\u001b[39menter_context(\u001b[38;5;28mopen\u001b[39m(os_fspath(file), \u001b[38;5;124m\"\u001b[39m\u001b[38;5;124mrb\u001b[39m\u001b[38;5;124m\"\u001b[39m))\n\u001b[1;32m    428\u001b[0m     own_fid \u001b[38;5;241m=\u001b[39m \u001b[38;5;28;01mTrue\u001b[39;00m\n\u001b[1;32m    430\u001b[0m \u001b[38;5;66;03m# Code to distinguish from NumPy binary files and pickles.\u001b[39;00m\n",
      "\u001b[0;31mFileNotFoundError\u001b[0m: [Errno 2] No such file or directory: 'Experiments/15_03_24_openmp_change_create/con_order_2500_enable_plasticity_True_tau_ca_2. s_nu_ext_mult_1.05_standalone_False.npz'"
     ]
    }
   ],
   "source": [
    "folder = 'Experiments/15_03_24_openmp_change_create/'\n",
    "name = '_order_2500_enable_plasticity_True_tau_ca_2. s_nu_ext_mult_1.1_standalone_False'\n",
    "\n",
    "fig, axs = plot_experiment(folder, name)\n",
    "plot_analysis('tracesnaive_tau_ca_2.h5', fig, axs)\n",
    "#plot_analysis('tracesnaive.h5', fig, axs)\n",
    "plt.savefig(\"test.svg\")"
   ]
  }
 ],
 "metadata": {
  "kernelspec": {
   "display_name": "i2cn",
   "language": "python",
   "name": "python3"
  },
  "language_info": {
   "codemirror_mode": {
    "name": "ipython",
    "version": 3
   },
   "file_extension": ".py",
   "mimetype": "text/x-python",
   "name": "python",
   "nbconvert_exporter": "python",
   "pygments_lexer": "ipython3",
   "version": "3.11.7"
  }
 },
 "nbformat": 4,
 "nbformat_minor": 2
}
